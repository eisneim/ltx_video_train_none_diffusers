{
 "cells": [
  {
   "cell_type": "code",
   "execution_count": 65,
   "id": "ddf6283b-178a-4fb1-8b75-2122f1e33890",
   "metadata": {},
   "outputs": [],
   "source": [
    "from typing import Dict, List, Optional, Union\n",
    "import random\n",
    "import torch\n",
    "import torch.nn as nn\n",
    "\n",
    "from ltx_video.models.autoencoders.causal_video_autoencoder import (\n",
    "    CausalVideoAutoencoder,\n",
    ")\n",
    "from ltx_video_lora import *\n",
    "from peft import PeftModel, get_peft_model, LoraConfig, get_peft_model_state_dict, set_peft_model_state_dict\n",
    "from safetensors.torch import load_file, save_file"
   ]
  },
  {
   "cell_type": "code",
   "execution_count": 71,
   "id": "a81d7d63-aa01-4f4b-8547-52865c9665d4",
   "metadata": {},
   "outputs": [],
   "source": [
    "from einops import rearrange\n",
    "from ltx_video.models.autoencoders.vae_encode import (\n",
    "    get_vae_size_scale_factor,\n",
    "    latent_to_pixel_coords,\n",
    "    vae_decode,\n",
    "    vae_encode,\n",
    ")"
   ]
  },
  {
   "cell_type": "code",
   "execution_count": 2,
   "id": "ef131c91-1870-4727-9ea0-31d68033cffe",
   "metadata": {},
   "outputs": [],
   "source": [
    "MODEL_ID = \"./pretrained/ltx-video-2b-v0.9.5.safetensors\"\n",
    "vae_dtype = torch.bfloat16\n",
    "vae = CausalVideoAutoencoder.from_pretrained(MODEL_ID, torch_dtype=vae_dtype, cache_dir=None)\n"
   ]
  },
  {
   "cell_type": "code",
   "execution_count": null,
   "id": "282efbbf-c5e6-4c7f-86bf-ffe649472efa",
   "metadata": {},
   "outputs": [],
   "source": [
    "trans = load_diffusion_models()[\"transformer\"]\n"
   ]
  },
  {
   "cell_type": "code",
   "execution_count": 51,
   "id": "70cacd41-0373-465c-a696-e9a1232be36e",
   "metadata": {},
   "outputs": [
    {
     "name": "stdout",
     "output_type": "stream",
     "text": [
      "torch.Size([1, 4032, 128])\n",
      "prompt_embeds torch.Size([1, 128, 4096])\n",
      "prompt_attention_mask torch.Size([1, 128])\n",
      "[{'num_frames': 7, 'height': 18, 'width': 32}]\n"
     ]
    }
   ],
   "source": [
    "file = \"/media/eisneim/4T/ltx_0.9.5/49x1024x576/negative_49x1024x576/action0_6k_0.8_stg1.2_[18]_ehance3_c0.94_49.pt\"\n",
    "data = torch.load(file, weights_only=True)\n",
    "latent = data[\"latents\"]\n",
    "print(latent.shape)\n",
    "prompt_embeds = data[\"embedds\"]\n",
    "print(\"prompt_embeds\", prompt_embeds.shape)\n",
    "prompt_attention_mask = data[\"masks\"]\n",
    "print(\"prompt_attention_mask\", prompt_attention_mask.shape)\n",
    "info = data[\"meta_info\"]\n",
    "print(info)"
   ]
  },
  {
   "cell_type": "code",
   "execution_count": null,
   "id": "65f47745-20a3-494c-bb26-c56d2ed91e18",
   "metadata": {},
   "outputs": [],
   "source": []
  },
  {
   "cell_type": "code",
   "execution_count": null,
   "id": "0eda15bc-2ad5-415f-9951-83f484cdabd9",
   "metadata": {},
   "outputs": [],
   "source": [
    "latents, pixel_coords, conditioning_mask, num_cond_latents = (\n",
    "    self.prepare_conditioning(\n",
    "        conditioning_items=conditioning_items,\n",
    "        init_latents=latents,\n",
    "        num_frames=num_frames,\n",
    "        height=height,\n",
    "        width=width,\n",
    "        vae_per_channel_normalize=vae_per_channel_normalize,\n",
    "        generator=generator,\n",
    "    )\n",
    ")\n",
    "init_latents = latents.clone()  # Used for image_cond_noise_update"
   ]
  },
  {
   "cell_type": "code",
   "execution_count": 69,
   "id": "ef5703d3-7a0c-4a7b-a974-b180c922b965",
   "metadata": {},
   "outputs": [
    {
     "name": "stdout",
     "output_type": "stream",
     "text": [
      "torch.Size([1, 2310, 128])\n"
     ]
    }
   ],
   "source": [
    "def pack_latents(latents: torch.Tensor, patch_size: int = 1, patch_size_t: int = 1) -> torch.Tensor:\n",
    "    batch_size, num_channels, num_frames, height, width = latents.shape\n",
    "    post_patch_num_frames = num_frames // patch_size_t\n",
    "    post_patch_height = height // patch_size\n",
    "    post_patch_width = width // patch_size\n",
    "    latents = latents.reshape(\n",
    "        batch_size,\n",
    "        -1,\n",
    "        post_patch_num_frames,\n",
    "        patch_size_t,\n",
    "        post_patch_height,\n",
    "        patch_size,\n",
    "        post_patch_width,\n",
    "        patch_size,\n",
    "    )\n",
    "    latents = latents.permute(0, 2, 4, 6, 1, 3, 5, 7).flatten(4, 7).flatten(1, 3)\n",
    "    return latents\n",
    "\n",
    "# image 1 x 704 x 480\n",
    "latents = torch.randn(1, 128, 7, 15, 22)\n",
    "packed = pack_latents(latents)\n",
    "print(packed.shape)"
   ]
  },
  {
   "cell_type": "code",
   "execution_count": 73,
   "id": "23109f9e-9927-46f3-b869-9a1901417831",
   "metadata": {},
   "outputs": [
    {
     "name": "stdout",
     "output_type": "stream",
     "text": [
      "torch.Size([1, 3, 2310])\n"
     ]
    }
   ],
   "source": [
    "pix_coords = latent_to_pixel_coords(coords, vae)\n",
    "print(pix_coords.shape)"
   ]
  },
  {
   "cell_type": "code",
   "execution_count": 63,
   "id": "84b6eec2-91e8-444c-8383-dc05284c2ecf",
   "metadata": {},
   "outputs": [
    {
     "name": "stdout",
     "output_type": "stream",
     "text": [
      "torch.Size([1, 3, 2310])\n"
     ]
    }
   ],
   "source": [
    "def get_latent_coords(\n",
    "    latent_num_frames, latent_height, latent_width, batch_size, device,\n",
    "    _patch_size=(1, 1, 1)\n",
    "):\n",
    "    \"\"\"\n",
    "    Return a tensor of shape [batch_size, 3, num_patches] containing the\n",
    "        top-left corner latent coordinates of each latent patch.\n",
    "    The tensor is repeated for each batch element.\n",
    "    \"\"\"\n",
    "    latent_sample_coords = torch.meshgrid(\n",
    "        torch.arange(0, latent_num_frames, _patch_size[0], device=device),\n",
    "        torch.arange(0, latent_height, _patch_size[1], device=device),\n",
    "        torch.arange(0, latent_width, _patch_size[2], device=device),\n",
    "    )\n",
    "    latent_sample_coords = torch.stack(latent_sample_coords, dim=0)\n",
    "    latent_coords = latent_sample_coords.unsqueeze(0).repeat(batch_size, 1, 1, 1, 1)\n",
    "    latent_coords = rearrange(\n",
    "        latent_coords, \"b c f h w -> b c (f h w)\", b=batch_size\n",
    "    )\n",
    "    return latent_coords\n",
    "    \n",
    "# coords = get_latent_coords(7, 480//32, 704//32, 1, \"cpu\")\n",
    "# print(coords.shape)\n",
    "\n",
    "\n",
    "def forward_pass(\n",
    "    transformer: Transformer3DModel,\n",
    "    vae: CausalVideoAutoencoder,\n",
    "    prompt_embeds: torch.Tensor,\n",
    "    prompt_attention_mask: torch.Tensor,\n",
    "    latents: torch.Tensor,\n",
    "    noisy_latents: torch.Tensor,\n",
    "    timesteps: torch.LongTensor,\n",
    "    num_frames: int,\n",
    "    height: int,\n",
    "    width: int,\n",
    ") -> torch.Tensor:\n",
    "    \n",
    "    bsz =  latents.size(0)\n",
    "    latent_coords = get_latent_coords(num_frames, height, width, bsz, latents.device)\n",
    "    pixel_coords = latent_to_pixel_coords(latent_coords, vae)\n",
    "    \n",
    "    # num_conds = 1\n",
    "    # pixel_coords = torch.cat([pixel_coords] * num_conds)\n",
    "    fractional_coords = pixel_coords.to(torch.float32)\n",
    "    fractional_coords[:, 0] = fractional_coords[:, 0] * (1.0 / frame_rate)\n",
    "    \n",
    "    noise_pred = transformer(\n",
    "        latent_model_input.to(transformer.dtype),\n",
    "        indices_grid=fractional_coords,\n",
    "        encoder_hidden_states=prompt_embeds.to(\n",
    "            transformer.dtype\n",
    "        ),\n",
    "        encoder_attention_mask=prompt_attention_mask,\n",
    "        timestep=timesteps,\n",
    "        return_dict=False,\n",
    "    )[0]\n",
    "\n",
    "    return {\"latents\": noise_pred}\n"
   ]
  },
  {
   "cell_type": "code",
   "execution_count": null,
   "id": "a10104ee-757c-4c78-ba03-d8e49dc35b6f",
   "metadata": {},
   "outputs": [],
   "source": [
    "forward_pass(trans, )"
   ]
  },
  {
   "cell_type": "code",
   "execution_count": 17,
   "id": "7a10efa6-f89a-4d17-9505-79b6c548a748",
   "metadata": {},
   "outputs": [],
   "source": [
    "from transformers import Conv1D\n",
    "\n",
    "def get_all_linear_names(model):\n",
    "    # Create a list to store the layer names\n",
    "    layer_names = []\n",
    "    \n",
    "    # Recursively visit all modules and submodules\n",
    "    for name, module in model.named_modules():\n",
    "        # if \"simpleMlp\" in name:\n",
    "        #     continue\n",
    "        # Check if the module is an instance of the specified layers\n",
    "        if isinstance(module, (torch.nn.Linear, torch.nn.Embedding, torch.nn.Conv2d, Conv1D)):\n",
    "            # model name parsing \n",
    "\n",
    "            layer_names.append(name)\n",
    "    \n",
    "    return layer_names\n",
    "\n",
    "# target_mods = \"\"\n",
    "target_mods =  get_all_linear_names(trans)\n",
    "\n",
    "transformer_lora_config = LoraConfig(\n",
    "    r=256,\n",
    "    lora_alpha=256,\n",
    "    # init_lora_weights=\"pissa\",\n",
    "    init_lora_weights=True,\n",
    "    target_modules=target_mods,\n",
    "    lora_dropout=0.01,\n",
    ")\n",
    "# self.transformer.add_adapter(transformer_lora_config)\n",
    "transformer = get_peft_model(trans, transformer_lora_config)"
   ]
  },
  {
   "cell_type": "code",
   "execution_count": null,
   "id": "03183172-5beb-402c-8fd6-f04f1264edb9",
   "metadata": {},
   "outputs": [],
   "source": [
    "prev_check = \"data/pytorch_lora_weights.safetensors\"\n",
    "ss = load_file(prev_check)\n",
    "prev_transformer_state_dict = {\n",
    "    f'{k.replace(\"transformer.\", \"base_model.model.\")}': v\n",
    "    for k, v in ss.items()\n",
    "    if k.startswith(\"transformer.\")\n",
    "}\n",
    "    \n",
    "set_peft_model_state_dict(transformer, prev_transformer_state_dict)"
   ]
  },
  {
   "cell_type": "code",
   "execution_count": 38,
   "id": "7a5e77d8-4205-442a-a484-a56889f5b07c",
   "metadata": {},
   "outputs": [],
   "source": [
    "transformer.save_pretrained(\"data/use_pretrained\")"
   ]
  },
  {
   "cell_type": "code",
   "execution_count": 40,
   "id": "bdbee8c2-1b83-424f-b740-20b1ed78febd",
   "metadata": {},
   "outputs": [],
   "source": [
    "new_trans = PeftModel.from_pretrained(trans, \"data/use_pretrained\")"
   ]
  },
  {
   "cell_type": "code",
   "execution_count": 28,
   "id": "c43d9ca9-9e4b-4707-95cb-650e4909f951",
   "metadata": {},
   "outputs": [],
   "source": [
    "save_file(transformer_lora_layers_to_save, \"data/pytorch_lora_weights.safetensors\")"
   ]
  },
  {
   "cell_type": "code",
   "execution_count": null,
   "id": "66bfe71b-46fa-4842-9066-0a4271a4c8f9",
   "metadata": {},
   "outputs": [],
   "source": [
    "aa = load_file(\"data/use_pretrained/adapter_model.safetensors\")\n",
    "aa"
   ]
  },
  {
   "cell_type": "code",
   "execution_count": null,
   "id": "dda01658-7df0-4185-850e-d194d5d0c1ad",
   "metadata": {},
   "outputs": [],
   "source": [
    "ss"
   ]
  },
  {
   "cell_type": "code",
   "execution_count": 31,
   "id": "08a5c1d2-8433-4cf2-a5a3-eb6e2fab154e",
   "metadata": {},
   "outputs": [],
   "source": [
    "save_file(ss, \"data/pytorch_lora_weights2.safetensors\")"
   ]
  },
  {
   "cell_type": "code",
   "execution_count": null,
   "id": "26c95970-e39b-47b9-bd74-07cf18a8b182",
   "metadata": {},
   "outputs": [],
   "source": [
    "transformer.state_dict()"
   ]
  },
  {
   "cell_type": "code",
   "execution_count": 60,
   "id": "4d000648-2f2e-4097-8fff-777db6fc4add",
   "metadata": {},
   "outputs": [
    {
     "name": "stdout",
     "output_type": "stream",
     "text": [
      "tensor([0., 1., 2., 3., 4., 5., 6., 7., 8., 9.])\n",
      "tensor([0.0000, 0.5000, 1.0000, 1.5000, 2.0000, 2.5000, 3.0000, 3.5000, 4.0000,\n",
      "        4.5000])\n",
      "lerp tensor([0.0000, 0.9500, 1.9000, 2.8500, 3.8000, 4.7500, 5.7000, 6.6500, 7.6000,\n",
      "        8.5500])\n",
      "tensor([0.0000, 0.9500, 1.9000, 2.8500, 3.8000, 4.7500, 5.7000, 6.6500, 7.6000,\n",
      "        8.5500])\n"
     ]
    }
   ],
   "source": [
    "aa = torch.arange(10)/1.0\n",
    "bb = torch.arange(10)/2.0\n",
    "print(aa)\n",
    "print(bb)\n",
    "print(\"lerp\", torch.lerp(aa, bb, 0.1))\n",
    "print(aa + 0.1 * (bb - aa))\n",
    "# bb * 1 + aa - 1 * aa = bb * w + aa * (1- w)"
   ]
  },
  {
   "cell_type": "code",
   "execution_count": 74,
   "id": "3e4db982-307b-48c0-9fc3-4520bc2a4b08",
   "metadata": {},
   "outputs": [],
   "source": [
    "import matplotlib.pyplot as plt"
   ]
  },
  {
   "cell_type": "code",
   "execution_count": 75,
   "id": "5bfa7a1f-411f-4c6a-b2da-eb4cd83384ef",
   "metadata": {},
   "outputs": [
    {
     "data": {
      "text/plain": [
       "[<matplotlib.lines.Line2D at 0x7dbb0eddaec0>]"
      ]
     },
     "execution_count": 75,
     "metadata": {},
     "output_type": "execute_result"
    },
    {
     "data": {
      "image/png": "[encoded data removed]",
      "text/plain": [
       "<Figure size 640x480 with 1 Axes>"
      ]
     },
     "metadata": {},
     "output_type": "display_data"
    }
   ],
   "source": [
    "aa = [1.0000, 0.9987, 0.9975, 0.9962, 0.9950, 0.9937, 0.9925, 0.9912, 0.9900,\n",
    "        0.9887, 0.9875, 0.9862, 0.9850, 0.9837, 0.9825, 0.9812, 0.9800, 0.9787,\n",
    "        0.9775, 0.9762, 0.9750, 0.9714, 0.9630, 0.9499, 0.9320, 0.9094, 0.8820,\n",
    "        0.8499, 0.8130, 0.7714, 0.7250, 0.6739, 0.6180, 0.5574, 0.4920, 0.4219,\n",
    "        0.3470, 0.2674, 0.1830, 0.0939]\n",
    "plt.plot(aa)"
   ]
  },
  {
   "cell_type": "code",
   "execution_count": 91,
   "id": "fb5abf8e-6c0b-4fca-b19c-43461396a9ab",
   "metadata": {},
   "outputs": [
    {
     "name": "stdout",
     "output_type": "stream",
     "text": [
      "30.625\n"
     ]
    }
   ],
   "source": [
    "dd = torch.load(\"/media/eisneim/4T/ltx_0.9.5/49x1280x704/game_slow_49x1280x704/wd_1742702669_2_0.pt\", weights_only=True)\n",
    "print(len(dd[\"latents\"]) * 49 / 24)"
   ]
  },
  {
   "cell_type": "code",
   "execution_count": 85,
   "id": "93304b9f-eae5-4846-bb89-1cb587ec2a79",
   "metadata": {},
   "outputs": [
    {
     "data": {
      "text/plain": [
       "torch.Size([8, 6160, 128])"
      ]
     },
     "execution_count": 85,
     "metadata": {},
     "output_type": "execute_result"
    }
   ],
   "source": [
    "dd[\"latents\"].shape"
   ]
  },
  {
   "cell_type": "code",
   "execution_count": 89,
   "id": "c4230d70-fd02-4a5a-b5e8-3a47ef3c18b9",
   "metadata": {},
   "outputs": [
    {
     "data": {
      "text/plain": [
       "16.333333333333332"
      ]
     },
     "execution_count": 89,
     "metadata": {},
     "output_type": "execute_result"
    }
   ],
   "source": [
    "len(dd[\"latents\"]) * 49 / 24"
   ]
  },
  {
   "cell_type": "code",
   "execution_count": null,
   "id": "de7b41f3-dd1d-4280-9d5b-d84bf0111f05",
   "metadata": {},
   "outputs": [],
   "source": []
  }
 ],
 "metadata": {
  "kernelspec": {
   "display_name": "_learn",
   "language": "python",
   "name": "_learn"
  },
  "language_info": {
   "codemirror_mode": {
    "name": "ipython",
    "version": 3
   },
   "file_extension": ".py",
   "mimetype": "text/x-python",
   "name": "python",
   "nbconvert_exporter": "python",
   "pygments_lexer": "ipython3",
   "version": "3.10.14"
  }
 },
 "nbformat": 4,
 "nbformat_minor": 5
}
